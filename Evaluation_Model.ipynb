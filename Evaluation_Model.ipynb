{
 "cells": [
  {
   "cell_type": "markdown",
   "id": "af59e4f3-cfa8-401f-b260-3c62b7891122",
   "metadata": {},
   "source": [
    "\"\"\"\n",
    "~ task: Evaluate classification confussion matrix ~\n",
    "\n",
    "@ author: Teodora Trandafir \n",
    "\n",
    "\"\"\""
   ]
  },
  {
   "cell_type": "code",
   "execution_count": 1,
   "id": "1d868cb4-fc95-40a1-af42-66ffcaf305f6",
   "metadata": {},
   "outputs": [
    {
     "data": {
      "text/plain": [
       "' Update '"
      ]
     },
     "execution_count": 1,
     "metadata": {},
     "output_type": "execute_result"
    }
   ],
   "source": [
    "\"\"\" Update \"\"\""
   ]
  },
  {
   "cell_type": "code",
   "execution_count": 2,
   "id": "4d673d80-d260-4472-9fcc-29bf122a1005",
   "metadata": {},
   "outputs": [],
   "source": [
    "import datetime\n",
    "\n",
    "import numpy as np \n",
    "%matplotlib inline\n",
    "import math\n",
    "import random\n",
    "\n",
    "import matplotlib.pyplot as plt\n",
    "import datetime\n",
    "import json\n",
    "import pandas as pd\n",
    "import six\n",
    "import csv\n",
    "\n",
    "import os\n",
    "import glob \n",
    "import sys\n",
    "import shutil\n",
    "from skimage import io\n",
    "from scipy import misc\n",
    "\n",
    "#import cv2\n",
    "from PIL import Image\n",
    "\n",
    "import tensorflow as tf\n",
    "from tensorflow.python.framework import tensor_util\n",
    "from tensorflow import keras\n",
    "from tensorflow.keras import backend as K\n",
    "from tensorflow.keras.models import *\n",
    "from tensorflow.keras.models import model_from_json, Sequential\n",
    "from tensorflow.keras.applications import InceptionResNetV2, ResNet50 \n",
    "from tensorflow.keras.layers import *\n",
    "from tensorflow.keras.layers import Lambda, Dense, Flatten, GlobalAveragePooling2D\n",
    "from tensorflow.keras.optimizers import *\n",
    "from tensorflow.keras.losses import *\n",
    "from tensorflow.keras.activations import softmax\n",
    "from tensorflow.keras.callbacks import ModelCheckpoint, LearningRateScheduler, History, EarlyStopping, ReduceLROnPlateau\n",
    "from tensorflow.keras.utils import load_img\n",
    "from tensorflow.keras.preprocessing.image import DirectoryIterator, ImageDataGenerator\n",
    "\n",
    "\n",
    "import sklearn\n",
    "from sklearn.metrics import accuracy_score, precision_score, recall_score, f1_score, cohen_kappa_score, roc_auc_score, multilabel_confusion_matrix, classification_report, confusion_matrix,RocCurveDisplay\n",
    "from sklearn.model_selection import StratifiedGroupKFold, GroupKFold\n",
    "from sklearn.utils import class_weight\n",
    "from sklearn.preprocessing import LabelEncoder"
   ]
  },
  {
   "cell_type": "code",
   "execution_count": 5,
   "id": "aa1de9c6-afdc-406c-a336-73efdd78e622",
   "metadata": {},
   "outputs": [
    {
     "name": "stdout",
     "output_type": "stream",
     "text": [
      "2.8.0\n",
      "1.1.0\n"
     ]
    },
    {
     "name": "stderr",
     "output_type": "stream",
     "text": [
      "2024-08-01 14:16:01.690549: I tensorflow/stream_executor/cuda/cuda_gpu_executor.cc:936] successful NUMA node read from SysFS had negative value (-1), but there must be at least one NUMA node, so returning NUMA node zero\n",
      "2024-08-01 14:16:01.713742: I tensorflow/stream_executor/cuda/cuda_gpu_executor.cc:936] successful NUMA node read from SysFS had negative value (-1), but there must be at least one NUMA node, so returning NUMA node zero\n",
      "2024-08-01 14:16:01.713842: I tensorflow/stream_executor/cuda/cuda_gpu_executor.cc:936] successful NUMA node read from SysFS had negative value (-1), but there must be at least one NUMA node, so returning NUMA node zero\n"
     ]
    }
   ],
   "source": [
    "print(tf.__version__)\n",
    "tf.config.list_physical_devices('GPU')\n",
    "print(sklearn.__version__)"
   ]
  },
  {
   "cell_type": "code",
   "execution_count": 6,
   "id": "7ca8b301-37e1-45d1-b193-c016804596e5",
   "metadata": {},
   "outputs": [
    {
     "name": "stdout",
     "output_type": "stream",
     "text": [
      "Thu Aug  1 14:16:01 2024       \n",
      "+-----------------------------------------------------------------------------------------+\n",
      "| NVIDIA-SMI 550.67                 Driver Version: 550.67         CUDA Version: 12.4     |\n",
      "|-----------------------------------------+------------------------+----------------------+\n",
      "| GPU  Name                 Persistence-M | Bus-Id          Disp.A | Volatile Uncorr. ECC |\n",
      "| Fan  Temp   Perf          Pwr:Usage/Cap |           Memory-Usage | GPU-Util  Compute M. |\n",
      "|                                         |                        |               MIG M. |\n",
      "|=========================================+========================+======================|\n",
      "|   0  NVIDIA GeForce RTX 3090        Off |   00000000:01:00.0 Off |                  N/A |\n",
      "|  0%   32C    P8             16W /  420W |     277MiB /  24576MiB |      0%      Default |\n",
      "|                                         |                        |                  N/A |\n",
      "+-----------------------------------------+------------------------+----------------------+\n",
      "                                                                                         \n",
      "+-----------------------------------------------------------------------------------------+\n",
      "| Processes:                                                                              |\n",
      "|  GPU   GI   CI        PID   Type   Process name                              GPU Memory |\n",
      "|        ID   ID                                                               Usage      |\n",
      "|=========================================================================================|\n",
      "|    0   N/A  N/A      5850      G   /usr/lib/xorg/Xorg                              4MiB |\n",
      "|    0   N/A  N/A      5939    C+G   ...libexec/gnome-remote-desktop-daemon        258MiB |\n",
      "+-----------------------------------------------------------------------------------------+\n"
     ]
    }
   ],
   "source": [
    "!nvidia-smi"
   ]
  },
  {
   "cell_type": "markdown",
   "id": "6656e333-b257-4535-a957-a9619765df78",
   "metadata": {},
   "source": [
    "#### Session settings"
   ]
  },
  {
   "cell_type": "code",
   "execution_count": 7,
   "id": "ac45af42-510a-49ff-919a-374601873216",
   "metadata": {},
   "outputs": [
    {
     "name": "stderr",
     "output_type": "stream",
     "text": [
      "2024-08-01 14:16:01.890989: I tensorflow/core/platform/cpu_feature_guard.cc:151] This TensorFlow binary is optimized with oneAPI Deep Neural Network Library (oneDNN) to use the following CPU instructions in performance-critical operations:  AVX2 AVX512F FMA\n",
      "To enable them in other operations, rebuild TensorFlow with the appropriate compiler flags.\n",
      "2024-08-01 14:16:01.891552: I tensorflow/stream_executor/cuda/cuda_gpu_executor.cc:936] successful NUMA node read from SysFS had negative value (-1), but there must be at least one NUMA node, so returning NUMA node zero\n",
      "2024-08-01 14:16:01.891695: I tensorflow/stream_executor/cuda/cuda_gpu_executor.cc:936] successful NUMA node read from SysFS had negative value (-1), but there must be at least one NUMA node, so returning NUMA node zero\n",
      "2024-08-01 14:16:01.891783: I tensorflow/stream_executor/cuda/cuda_gpu_executor.cc:936] successful NUMA node read from SysFS had negative value (-1), but there must be at least one NUMA node, so returning NUMA node zero\n",
      "2024-08-01 14:16:02.194298: I tensorflow/stream_executor/cuda/cuda_gpu_executor.cc:936] successful NUMA node read from SysFS had negative value (-1), but there must be at least one NUMA node, so returning NUMA node zero\n",
      "2024-08-01 14:16:02.194494: I tensorflow/stream_executor/cuda/cuda_gpu_executor.cc:936] successful NUMA node read from SysFS had negative value (-1), but there must be at least one NUMA node, so returning NUMA node zero\n",
      "2024-08-01 14:16:02.194602: I tensorflow/stream_executor/cuda/cuda_gpu_executor.cc:936] successful NUMA node read from SysFS had negative value (-1), but there must be at least one NUMA node, so returning NUMA node zero\n",
      "2024-08-01 14:16:02.194673: I tensorflow/core/common_runtime/gpu/gpu_device.cc:1525] Created device /job:localhost/replica:0/task:0/device:GPU:0 with 22029 MB memory:  -> device: 0, name: NVIDIA GeForce RTX 3090, pci bus id: 0000:01:00.0, compute capability: 8.6\n"
     ]
    }
   ],
   "source": [
    "config = tf.compat.v1.ConfigProto()\n",
    "config.gpu_options.allow_growth=True\n",
    "session = tf.compat.v1.Session(config=config)"
   ]
  },
  {
   "cell_type": "markdown",
   "id": "37f47428-b81e-4050-8393-91845d135bef",
   "metadata": {},
   "source": [
    "#### Work directory configurations"
   ]
  },
  {
   "cell_type": "code",
   "execution_count": 8,
   "id": "e03e5336-1373-43c3-b452-658b02031068",
   "metadata": {},
   "outputs": [
    {
     "name": "stdout",
     "output_type": "stream",
     "text": [
      "/mnt/storage/Projects/04_LCNEC/Principal\n",
      "/mnt/storage/Projects/04_LCNEC\n"
     ]
    }
   ],
   "source": [
    "print(os.getcwd())\n",
    "os.chdir('..')\n",
    "print(os.getcwd())"
   ]
  },
  {
   "cell_type": "markdown",
   "id": "db69b34e-c63a-4c4d-a45c-aaec02534f27",
   "metadata": {
    "tags": []
   },
   "source": [
    "#### Experiment date"
   ]
  },
  {
   "cell_type": "code",
   "execution_count": 9,
   "id": "c8933f9d-0347-4fce-a5a1-b398349ca7b8",
   "metadata": {},
   "outputs": [
    {
     "name": "stdout",
     "output_type": "stream",
     "text": [
      "2024-08-01_\n"
     ]
    }
   ],
   "source": [
    "current_date = datetime.datetime.today().strftime('%Y-%m-%d')+\"_\"\n",
    "print(current_date)"
   ]
  },
  {
   "cell_type": "markdown",
   "id": "4a8bb7d5-0628-470e-8c8f-5614b14e5e4c",
   "metadata": {},
   "source": [
    "#### Input ocation "
   ]
  },
  {
   "cell_type": "code",
   "execution_count": 10,
   "id": "67f527f8-dabf-4660-964a-1fbfd189426f",
   "metadata": {},
   "outputs": [],
   "source": [
    "project_path = os.getcwd()\n",
    "\n",
    "root_path = project_path + os.sep + 'Principal'\n",
    "data_path = project_path + os.sep + 'LCNEC_128_Consensus'\n",
    "folds_path = project_path + os.sep + 'LCNEC_128_Consensus_4folds'\n",
    "save_path = project_path + os.sep + 'augument'\n",
    "\n",
    "test_path_validation = folds_path + os.sep + 'Fold31/Validation'\n",
    "test_path_biopsies =  project_path + os.sep + 'Test_biopsies'\n",
    "test_path_all =  project_path + os.sep + 'Test_all'\n"
   ]
  },
  {
   "cell_type": "markdown",
   "id": "c9966418-c037-4055-901c-ac4cc341f1fe",
   "metadata": {},
   "source": [
    "#### Input settings"
   ]
  },
  {
   "cell_type": "code",
   "execution_count": 11,
   "id": "4476f51e-0610-4d09-a041-c856cb0eb539",
   "metadata": {},
   "outputs": [
    {
     "name": "stdout",
     "output_type": "stream",
     "text": [
      "['1', '0']\n"
     ]
    }
   ],
   "source": [
    "\"\"\" Set data info \"\"\"\n",
    "\n",
    "DISEASE = 'LCNEC_RB_consensus4'\n",
    "\n",
    "CLASSES = ([name for name in os.listdir(data_path)])\n",
    "print(CLASSES)\n",
    "N_CLASSES = len(CLASSES)\n",
    "class_weights = None\n",
    "\n",
    "\"\"\" Set experiments repeats \"\"\"\n",
    "N_FOLDS = 4\n",
    "N_RUNS = 1\n",
    "\n",
    "\"\"\"Evaluated fold\"\"\"\n",
    "#foldN = 3\n",
    "runN = 1\n",
    "\n",
    "\n",
    "\"\"\" Set model parameters \"\"\"\n",
    "MODEL_ARCH = 'teonet_u2'\n",
    "LOSS_FUNC = 'BBCE'\n",
    "PATCH_SIZE = 128\n",
    "DOWNSIZING_FACTOR = 1 # 1 for original image size\n",
    "PATCH_SIZE = int(PATCH_SIZE/DOWNSIZING_FACTOR) # both height and width\n",
    "BATCH_SIZE = 128 * DOWNSIZING_FACTOR * DOWNSIZING_FACTOR\n",
    "LR = 1e-4\n",
    "\n",
    "\"\"\" Set randomization parameters \"\"\"\n",
    "SHUFFLE = False\n",
    "SEED = 1\n",
    "\n",
    "\"\"\" Set required metrics evaluation \"\"\"\n",
    "METRICS = ['Accuracy']\n"
   ]
  },
  {
   "cell_type": "code",
   "execution_count": 12,
   "id": "a3857acf-658f-43b9-a4d5-e410553e5eb5",
   "metadata": {},
   "outputs": [],
   "source": [
    "exp_path = '{}/Experiments/{}_{}_{}_{}_{}/'.format(project_path,DISEASE,MODEL_ARCH,LOSS_FUNC,N_CLASSES,PATCH_SIZE)"
   ]
  },
  {
   "cell_type": "markdown",
   "id": "4a6b7815-efeb-4059-a233-a50eb0d41c92",
   "metadata": {
    "tags": []
   },
   "source": [
    "#### Output location"
   ]
  },
  {
   "cell_type": "code",
   "execution_count": 13,
   "id": "bfc42178-6da8-434c-9eeb-bcc8c13461fd",
   "metadata": {},
   "outputs": [],
   "source": [
    "weights_path = '{}/Experiments/{}_{}_{}_{}_{}/weights_data/'.format(project_path,DISEASE,MODEL_ARCH,LOSS_FUNC,N_CLASSES,PATCH_SIZE)"
   ]
  },
  {
   "cell_type": "markdown",
   "id": "4cf90854-7a93-450b-967a-24421d6fbfbb",
   "metadata": {},
   "source": [
    "#### Import model weights"
   ]
  },
  {
   "cell_type": "code",
   "execution_count": 14,
   "id": "3fa08204-5de8-4b49-89aa-b1c0deeb5216",
   "metadata": {},
   "outputs": [],
   "source": [
    "model_weights = weights_path+\"Fold31/Weights_LCNEC_RB_consensus4_V11_teonet_u2_BBCE_2_128_31_42_1.05.hdf5\" ### this is fold 3"
   ]
  },
  {
   "cell_type": "markdown",
   "id": "ecbc900a-4577-4703-bc68-76c9fecbb7a1",
   "metadata": {},
   "source": [
    "#### Test data evaluation"
   ]
  },
  {
   "cell_type": "markdown",
   "id": "7a9f7a13-fd18-44dc-9d77-bfb396e18720",
   "metadata": {},
   "source": [
    "#### Generator setup"
   ]
  },
  {
   "cell_type": "code",
   "execution_count": 15,
   "id": "ff896cd1-3569-4f91-9675-2eee07296078",
   "metadata": {},
   "outputs": [
    {
     "name": "stdout",
     "output_type": "stream",
     "text": [
      "Found 6762 images belonging to 2 classes.\n",
      "Found 20161 images belonging to 2 classes.\n",
      "Found 8878 images belonging to 2 classes.\n"
     ]
    }
   ],
   "source": [
    "augmentation_arguments_test = dict(featurewise_center = False,\n",
    "                                    samplewise_center = False,\n",
    "                                    featurewise_std_normalization = False,\n",
    "                                    samplewise_std_normalization = False,\n",
    "                                    rotation_range = None,\n",
    "                                    brightness_range = None,\n",
    "                                    horizontal_flip = False,\n",
    "                                    vertical_flip = False,\n",
    "                                    rescale = 1./255.,\n",
    "                                    # fill_mode = \"constant\",\n",
    "                                    # cval = 255.0,\n",
    "                                    preprocessing_function = None)  #    tf.keras.applications.resnet_v2.preprocess_input)\n",
    "\n",
    "test_datagen_validation = ImageDataGenerator(**augmentation_arguments_test).flow_from_directory(directory = test_path_validation,\n",
    "                                                                                    batch_size = BATCH_SIZE, \n",
    "                                                                                    target_size = (PATCH_SIZE,PATCH_SIZE),\n",
    "                                                                                    color_mode= \"rgb\",\n",
    "                                                                                    class_mode = \"binary\", \n",
    "                                                                                    #classes = CLASSES,\n",
    "                                                                                    seed= SEED,\n",
    "                                                                                    shuffle = SHUFFLE)\n",
    "\n",
    "test_datagen_all = ImageDataGenerator(**augmentation_arguments_test).flow_from_directory(directory = test_path_all,\n",
    "                                                                                    batch_size = BATCH_SIZE, \n",
    "                                                                                    target_size = (PATCH_SIZE,PATCH_SIZE),\n",
    "                                                                                    color_mode= \"rgb\",\n",
    "                                                                                    class_mode = \"binary\", \n",
    "                                                                                    #classes = CLASSES,\n",
    "                                                                                    seed= SEED,\n",
    "                                                                                    shuffle = SHUFFLE)\n",
    "\n",
    "test_datagen_biopsies = ImageDataGenerator(**augmentation_arguments_test).flow_from_directory(directory = test_path_biopsies,\n",
    "                                                                                    batch_size = BATCH_SIZE, \n",
    "                                                                                    target_size = (PATCH_SIZE,PATCH_SIZE),\n",
    "                                                                                    color_mode= \"rgb\",\n",
    "                                                                                    class_mode = \"binary\", \n",
    "                                                                                    #classes = CLASSES,\n",
    "                                                                                    seed= SEED,\n",
    "                                                                                    shuffle = SHUFFLE)\n"
   ]
  },
  {
   "cell_type": "code",
   "execution_count": 17,
   "id": "b491464e-524c-4d1f-9f79-c430f24a30b1",
   "metadata": {},
   "outputs": [],
   "source": [
    "\"\"\" Set required functions \"\"\"\n",
    "OPTIMIZER = Adam(learning_rate=LR, beta_1=0.9, beta_2=0.999, epsilon=None, decay=1e-4, amsgrad=False, name='Adam') \n",
    "\n",
    "LOSS = 'binary_crossentropy'"
   ]
  },
  {
   "cell_type": "markdown",
   "id": "74510d55-0d34-4d18-9305-cb631be6afe7",
   "metadata": {},
   "source": [
    "#### Fit Model"
   ]
  },
  {
   "cell_type": "code",
   "execution_count": 18,
   "id": "fed1f1a8-a36c-4832-a7bf-53564bb42f75",
   "metadata": {},
   "outputs": [
    {
     "name": "stderr",
     "output_type": "stream",
     "text": [
      "2024-08-01 14:16:02.533684: I tensorflow/stream_executor/cuda/cuda_gpu_executor.cc:936] successful NUMA node read from SysFS had negative value (-1), but there must be at least one NUMA node, so returning NUMA node zero\n",
      "2024-08-01 14:16:02.533865: I tensorflow/stream_executor/cuda/cuda_gpu_executor.cc:936] successful NUMA node read from SysFS had negative value (-1), but there must be at least one NUMA node, so returning NUMA node zero\n",
      "2024-08-01 14:16:02.533964: I tensorflow/stream_executor/cuda/cuda_gpu_executor.cc:936] successful NUMA node read from SysFS had negative value (-1), but there must be at least one NUMA node, so returning NUMA node zero\n",
      "2024-08-01 14:16:02.534089: I tensorflow/stream_executor/cuda/cuda_gpu_executor.cc:936] successful NUMA node read from SysFS had negative value (-1), but there must be at least one NUMA node, so returning NUMA node zero\n",
      "2024-08-01 14:16:02.534182: I tensorflow/stream_executor/cuda/cuda_gpu_executor.cc:936] successful NUMA node read from SysFS had negative value (-1), but there must be at least one NUMA node, so returning NUMA node zero\n",
      "2024-08-01 14:16:02.534247: I tensorflow/core/common_runtime/gpu/gpu_device.cc:1525] Created device /job:localhost/replica:0/task:0/device:GPU:0 with 22029 MB memory:  -> device: 0, name: NVIDIA GeForce RTX 3090, pci bus id: 0000:01:00.0, compute capability: 8.6\n"
     ]
    }
   ],
   "source": [
    "from model_u2 import *\n",
    "\n",
    "model = create_binary_classification_model(input_shape=(PATCH_SIZE, PATCH_SIZE, 3))\n",
    "\n",
    "model.compile(optimizer = OPTIMIZER, loss = LOSS, metrics = METRICS)\n",
    "\n",
    "# Summary of the model architecture\n",
    "#model_1.summary()\n"
   ]
  },
  {
   "cell_type": "code",
   "execution_count": 19,
   "id": "175c126a-28ef-44eb-ab6f-dfbbc2af8cf1",
   "metadata": {},
   "outputs": [],
   "source": [
    "model.load_weights(model_weights)"
   ]
  },
  {
   "cell_type": "code",
   "execution_count": 20,
   "id": "2cee445d-c0f2-4753-aed6-d51458a0d79b",
   "metadata": {},
   "outputs": [
    {
     "name": "stdout",
     "output_type": "stream",
     "text": [
      "['0', '1']\n"
     ]
    }
   ],
   "source": [
    "target_names = []\n",
    "for key in test_datagen_all.class_indices:\n",
    "    target_names.append(key)\n",
    "print(target_names)"
   ]
  },
  {
   "cell_type": "code",
   "execution_count": 21,
   "id": "188eb9f3-5ff8-4a19-8bdf-8cf48d663f21",
   "metadata": {},
   "outputs": [
    {
     "name": "stderr",
     "output_type": "stream",
     "text": [
      "2024-08-01 14:16:03.165354: I tensorflow/stream_executor/cuda/cuda_dnn.cc:368] Loaded cuDNN version 8200\n",
      "2024-08-01 14:16:04.494492: I tensorflow/stream_executor/cuda/cuda_blas.cc:1786] TensorFloat-32 will be used for the matrix multiplication. This will only be logged once.\n"
     ]
    }
   ],
   "source": [
    "#Confution Matrix\n",
    "\n",
    "Y_pred_validation = model.predict(test_datagen_validation)\n",
    "y_pred_validation = (Y_pred_validation>0.5)\n",
    "\n",
    "#y_pred = np.argmax(Y_pred, axis=1)\n",
    "Y_pred_all = model.predict(test_datagen_all)\n",
    "y_pred_all = (Y_pred_all>0.5)\n",
    "\n",
    "Y_pred_biopsies = model.predict(test_datagen_biopsies)\n",
    "y_pred_biopsies = (Y_pred_biopsies>0.5)\n"
   ]
  },
  {
   "cell_type": "markdown",
   "id": "6de5bfbd-1305-4b57-9678-92f985899e7f",
   "metadata": {},
   "source": [
    "## Patchwise Confusion Matrices"
   ]
  },
  {
   "cell_type": "code",
   "execution_count": 22,
   "id": "f0b09f24-9241-4717-8155-470821fde393",
   "metadata": {},
   "outputs": [],
   "source": [
    "cm_validation = confusion_matrix(test_datagen_validation.classes, y_pred_validation)\n",
    "cm_normalized_validation = cm_validation.astype('float') / cm_validation.sum(axis=1)[:, np.newaxis]\n",
    "\n",
    "cm_all = confusion_matrix(test_datagen_all.classes, y_pred_all)\n",
    "cm_normalized_all = cm_all.astype('float') / cm_all.sum(axis=1)[:, np.newaxis]\n",
    "\n",
    "cm_biopsies = confusion_matrix(test_datagen_biopsies.classes, y_pred_biopsies)\n",
    "cm_normalized_biopsies = cm_biopsies.astype('float') / cm_biopsies.sum(axis=1)[:, np.newaxis]"
   ]
  },
  {
   "cell_type": "code",
   "execution_count": 23,
   "id": "ee923c92-ad7a-48ff-9572-c0b0f7919be3",
   "metadata": {},
   "outputs": [],
   "source": [
    "# Combine unnormalized and normalized values in one matrix\n",
    "combined_matrix_validation = np.array([[\n",
    "    f'{value}\\n({normalized:.2%})' for value, normalized in zip(row, normalized_row)\n",
    "] for row, normalized_row in zip(cm_validation, cm_normalized_validation)])\n",
    "\n",
    "combined_matrix_all = np.array([[\n",
    "    f'{value}\\n({normalized:.2%})' for value, normalized in zip(row, normalized_row)\n",
    "] for row, normalized_row in zip(cm_all, cm_normalized_all)])\n",
    "\n",
    "combined_matrix_biopsies = np.array([[\n",
    "    f'{value}\\n({normalized:.2%})' for value, normalized in zip(row, normalized_row)\n",
    "] for row, normalized_row in zip(cm_biopsies, cm_normalized_biopsies)])"
   ]
  },
  {
   "cell_type": "code",
   "execution_count": 24,
   "id": "06b094ba-d57a-4827-8761-3d867a70d3d1",
   "metadata": {},
   "outputs": [
    {
     "data": {
      "image/png": "[encoded data removed]",
      "text/plain": [
       "<Figure size 936x288 with 6 Axes>"
      ]
     },
     "metadata": {
      "needs_background": "light"
     },
     "output_type": "display_data"
    }
   ],
   "source": [
    "import seaborn as sns\n",
    "\n",
    "# Create a figure with 5 subplots arranged horizontally\n",
    "fig, axes = plt.subplots(1, 3, figsize=(13, 4))\n",
    "\n",
    "sns.heatmap(cm_validation, annot=combined_matrix_validation, fmt='', cmap='Blues', cbar=True, ax=axes[0], xticklabels=['Pred pRb neg', 'Pred pRb pos'], yticklabels=['True pRb neg', 'True pRb pos'])\n",
    "axes[0].set_title('Validation')\n",
    "# axes[0].set_xlabel('Predicted')\n",
    "# axes[0].set_ylabel('True')\n",
    "\n",
    "sns.heatmap(cm_all, annot=combined_matrix_all, fmt='', cmap='Blues', cbar=True, ax=axes[1], xticklabels=['Pred pRb neg', 'Pred pRb pos'], yticklabels=['True pRb neg', 'True pRb pos'])\n",
    "axes[1].set_title('Test')\n",
    "# axes[0].set_xlabel('Predicted')\n",
    "# axes[0].set_ylabel('True')\n",
    "\n",
    "sns.heatmap(cm_biopsies, annot=combined_matrix_biopsies, fmt='', cmap='Blues', cbar=True, ax=axes[2], xticklabels=['Pred pRb neg', 'Pred pRb pos'], yticklabels=['True pRb neg', 'True pRb pos'])\n",
    "axes[2].set_title('Biopsies')\n",
    "# axes[0].set_xlabel('Predicted')\n",
    "# axes[0].set_ylabel('True')\n",
    "\n",
    "plt.suptitle('Tile-Wise Performance Evaluation', fontsize=16)\n",
    "plt.tight_layout(rect=[0, 0, 1, 0.96])\n",
    "plt.savefig(exp_path + \"/All_tiles_Confusion_Matrices.png\")\n",
    "plt.show()\n"
   ]
  },
  {
   "cell_type": "markdown",
   "id": "55481038-1a31-4ba6-a4b3-ca9454c7ba71",
   "metadata": {},
   "source": [
    "## Patchwise ROC-AUCs"
   ]
  },
  {
   "cell_type": "code",
   "execution_count": 25,
   "id": "3d9a49dc-894b-4e5f-b4aa-4bfa491fea6f",
   "metadata": {},
   "outputs": [
    {
     "data": {
      "image/png": "[encoded data removed]",
      "text/plain": [
       "<Figure size 432x288 with 1 Axes>"
      ]
     },
     "metadata": {
      "needs_background": "light"
     },
     "output_type": "display_data"
    }
   ],
   "source": [
    "plt.figure(figsize=(6, 4))\n",
    "RocCurveDisplay.from_predictions(test_datagen_validation.classes, Y_pred_validation, name=f\"Validation\", color=\"magenta\", ax=plt.gca())\n",
    "RocCurveDisplay.from_predictions(test_datagen_all.classes, Y_pred_all, name=f\"Test\", color=\"blue\", ax=plt.gca())\n",
    "RocCurveDisplay.from_predictions(test_datagen_biopsies.classes, Y_pred_biopsies, name=f\"Biopsies\", color=\"green\", ax=plt.gca())\n",
    "\n",
    "plt.xlabel(\"False Positive Rate\")\n",
    "plt.ylabel(\"True Positive Rate\")\n",
    "\n",
    "plt.plot([0, 1], [0, 1], \"k--\", label=\"chance level (AUC = 0.5)\")\n",
    "plt.title(\"Tile-wise Rb Positive vs pRb Negative AUC-ROC\")\n",
    "plt.legend()\n",
    "plt.savefig(exp_path + \"/All_tiles_ROC_AUC.png\")\n",
    "plt.show()"
   ]
  },
  {
   "cell_type": "markdown",
   "id": "c4fd12f7-4dee-434f-a819-69a2d4cd3d4b",
   "metadata": {},
   "source": [
    "# Patient level implementation"
   ]
  },
  {
   "cell_type": "code",
   "execution_count": 26,
   "id": "39ab4996-5097-4f76-bb1b-d4e86dac1ce5",
   "metadata": {},
   "outputs": [],
   "source": [
    "excel_file_validation = exp_path + \"Validation_Patient_Prediction_Consensus.xlsx\"\n",
    "excel_file_all = exp_path + \"Test_Patient_Prediction_Consensus.xlsx\"\n",
    "excel_file_biopsies = exp_path + \"Biopsies_Patient_Prediction_Consensus.xlsx\""
   ]
  },
  {
   "cell_type": "code",
   "execution_count": 27,
   "id": "6276498c-35e6-4c9c-9a0a-4cd31966d3e8",
   "metadata": {},
   "outputs": [],
   "source": [
    "data_validation = pd.read_excel(excel_file_validation, sheet_name='Fold_3')\n",
    "class_true_validation = data_validation['Class_true'].tolist()\n",
    "class_pred_validation = data_validation['Class_predicted'].tolist()\n",
    "\n",
    "data_all = pd.read_excel(excel_file_all, sheet_name='Fold_3')\n",
    "class_true_all = data_all['Class_true'].tolist()\n",
    "class_pred_all = data_all['Class_predicted'].tolist()\n",
    "\n",
    "data_biopsies = pd.read_excel(excel_file_biopsies, sheet_name='Fold_3')\n",
    "class_true_biopsies = data_biopsies['Class_true'].tolist()\n",
    "class_pred_biopsies = data_biopsies['Class_predicted'].tolist()"
   ]
  },
  {
   "cell_type": "markdown",
   "id": "00c4a39b-6cc0-4d96-af9f-46beb9506910",
   "metadata": {},
   "source": [
    "## Patientwise Confusion Matrices"
   ]
  },
  {
   "cell_type": "code",
   "execution_count": 28,
   "id": "c39b2938-b34c-446b-8b96-02d55c1ccf4b",
   "metadata": {},
   "outputs": [],
   "source": [
    "cm_pvalidation = confusion_matrix(class_true_validation, class_pred_validation)\n",
    "cm_normalized_pvalidation = cm_pvalidation.astype('float') / cm_pvalidation.sum(axis=1)[:, np.newaxis]\n",
    "\n",
    "cm_pall = confusion_matrix(class_true_all, class_pred_all)\n",
    "cm_normalized_pall = cm_pall.astype('float') / cm_pall.sum(axis=1)[:, np.newaxis]\n",
    "\n",
    "cm_pbiopsies = confusion_matrix(class_true_biopsies, class_pred_biopsies)\n",
    "cm_normalized_pbiopsies = cm_pbiopsies.astype('float') / cm_pbiopsies.sum(axis=1)[:, np.newaxis]"
   ]
  },
  {
   "cell_type": "code",
   "execution_count": 29,
   "id": "0e0c3593-1fa3-4855-8485-731edb1c743e",
   "metadata": {},
   "outputs": [],
   "source": [
    "# Combine unnormalized and normalized values in one matrix\n",
    "combined_matrix_pvalidation = np.array([[\n",
    "    f'{value}\\n({normalized:.2%})' for value, normalized in zip(row, normalized_row)\n",
    "] for row, normalized_row in zip(cm_pvalidation, cm_normalized_pvalidation)])\n",
    "\n",
    "combined_matrix_pall = np.array([[\n",
    "    f'{value}\\n({normalized:.2%})' for value, normalized in zip(row, normalized_row)\n",
    "] for row, normalized_row in zip(cm_pall, cm_normalized_pall)])\n",
    "\n",
    "combined_matrix_pbiopsies = np.array([[\n",
    "    f'{value}\\n({normalized:.2%})' for value, normalized in zip(row, normalized_row)\n",
    "] for row, normalized_row in zip(cm_pbiopsies, cm_normalized_pbiopsies)])"
   ]
  },
  {
   "cell_type": "code",
   "execution_count": 30,
   "id": "b9664416-9713-429b-be04-4c3d604df1d6",
   "metadata": {},
   "outputs": [
    {
     "data": {
      "image/png": "[encoded data removed]",
      "text/plain": [
       "<Figure size 936x288 with 6 Axes>"
      ]
     },
     "metadata": {
      "needs_background": "light"
     },
     "output_type": "display_data"
    }
   ],
   "source": [
    "import seaborn as sns\n",
    "\n",
    "# Create a figure with 5 subplots arranged horizontally\n",
    "fig, axes = plt.subplots(1, 3, figsize=(13, 4))\n",
    "\n",
    "sns.heatmap(cm_pvalidation, annot=combined_matrix_pvalidation, fmt='', cmap='Blues', cbar=True, ax=axes[0], xticklabels=['Pred pRb neg', 'Pred pRb pos'], yticklabels=['True pRb neg', 'True pRb pos'])\n",
    "axes[0].set_title('Validation')\n",
    "# axes[0].set_xlabel('Predicted')\n",
    "# axes[0].set_ylabel('True')\n",
    "\n",
    "sns.heatmap(cm_pall, annot=combined_matrix_pall, fmt='', cmap='Blues', cbar=True, ax=axes[1], xticklabels=['Pred pRb neg', 'Pred pRb pos'], yticklabels=['True pRb neg', 'True pRb pos'])\n",
    "axes[1].set_title('Test')\n",
    "# axes[0].set_xlabel('Predicted')\n",
    "# axes[0].set_ylabel('True')\n",
    "\n",
    "sns.heatmap(cm_pbiopsies, annot=combined_matrix_pbiopsies, fmt='', cmap='Blues', cbar=True, ax=axes[2], xticklabels=['Pred pRb neg', 'Pred pRb pos'], yticklabels=['True pRb neg', 'True pRb pos'])\n",
    "axes[2].set_title('Biopsies')\n",
    "# axes[0].set_xlabel('Predicted')\n",
    "# axes[0].set_ylabel('True')\n",
    "\n",
    "plt.suptitle('Patient-Wise Performance Evaluation', fontsize=16)\n",
    "plt.tight_layout(rect=[0, 0, 1, 0.96])\n",
    "plt.savefig(exp_path + \"/All_patients_Confusion_Matrices.png\")\n",
    "plt.show()\n"
   ]
  },
  {
   "cell_type": "markdown",
   "id": "4a4b65e9-0fce-44c2-b69c-1904c992a02d",
   "metadata": {},
   "source": [
    "## Patientwise ROC-AUCs"
   ]
  },
  {
   "cell_type": "code",
   "execution_count": 31,
   "id": "f4975938-f373-4cf1-86a8-a979347956b8",
   "metadata": {},
   "outputs": [],
   "source": [
    "number_patches_validation = data_validation['Number_patches'].tolist()\n",
    "class_1_validation = data_validation['Class_1'].tolist()\n",
    "\n",
    "probability_prediction_validation = []\n",
    "for i in range(0,len(number_patches_validation)):\n",
    "    probability_prediction_validation.append(class_1_validation[i]/number_patches_validation[i])\n",
    "   \n",
    "    \n",
    "number_patches_all = data_all['Number_patches'].tolist()\n",
    "class_1_all = data_all['Class_1'].tolist()\n",
    "\n",
    "probability_prediction_all = []\n",
    "for i in range(0,len(number_patches_all)):\n",
    "    probability_prediction_all.append(class_1_all[i]/number_patches_all[i])\n",
    "    \n",
    "    \n",
    "number_patches_biopsies = data_biopsies['Number_patches'].tolist()\n",
    "class_1_biopsies = data_biopsies['Class_1'].tolist()\n",
    "\n",
    "probability_prediction_biopsies = []\n",
    "for i in range(0,len(number_patches_biopsies)):\n",
    "    probability_prediction_biopsies.append(class_1_biopsies[i]/number_patches_biopsies[i])"
   ]
  },
  {
   "cell_type": "code",
   "execution_count": 32,
   "id": "0f8f12ed-8b15-4f3a-8eed-6440b849f47f",
   "metadata": {},
   "outputs": [
    {
     "data": {
      "image/png": "[encoded data removed]",
      "text/plain": [
       "<Figure size 432x288 with 1 Axes>"
      ]
     },
     "metadata": {
      "needs_background": "light"
     },
     "output_type": "display_data"
    }
   ],
   "source": [
    "plt.figure(figsize=(6, 4))\n",
    "RocCurveDisplay.from_predictions(class_true_validation, probability_prediction_validation, name=f\"Validation\", color=\"magenta\", ax=plt.gca())\n",
    "RocCurveDisplay.from_predictions(class_true_all, probability_prediction_all, name=f\"Test\", color=\"blue\", ax=plt.gca())\n",
    "RocCurveDisplay.from_predictions(class_true_biopsies, probability_prediction_biopsies, name=f\"Biopsies\", color=\"green\", ax=plt.gca())\n",
    "\n",
    "plt.xlabel(\"False Positive Rate\")\n",
    "plt.ylabel(\"True Positive Rate\")\n",
    "\n",
    "plt.plot([0, 1], [0, 1], \"k--\", label=\"chance level (AUC = 0.5)\")\n",
    "plt.title(\"Patient-wise pRb Positive vs pRb Negative AUC-ROC\")\n",
    "plt.legend()\n",
    "plt.savefig(exp_path + \"/All_patients_ROC_AUC.png\")\n",
    "plt.show()"
   ]
  },
  {
   "cell_type": "code",
   "execution_count": null,
   "id": "2360a20e-51db-410a-9301-80814034f547",
   "metadata": {},
   "outputs": [],
   "source": []
  },
  {
   "cell_type": "code",
   "execution_count": null,
   "id": "26889eb9-d184-4d93-bf0f-96bcf21de767",
   "metadata": {},
   "outputs": [],
   "source": []
  }
 ],
 "metadata": {
  "kernelspec": {
   "display_name": "DL_img",
   "language": "python",
   "name": "dl_img"
  },
  "language_info": {
   "codemirror_mode": {
    "name": "ipython",
    "version": 3
   },
   "file_extension": ".py",
   "mimetype": "text/x-python",
   "name": "python",
   "nbconvert_exporter": "python",
   "pygments_lexer": "ipython3",
   "version": "3.10.4"
  }
 },
 "nbformat": 4,
 "nbformat_minor": 5
}
