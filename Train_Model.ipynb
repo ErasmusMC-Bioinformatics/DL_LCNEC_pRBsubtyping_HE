{
 "cells": [
  {
   "cell_type": "code",
   "execution_count": 1,
   "id": "0f7c5d3c-b568-47dc-8876-e6fc08e17c13",
   "metadata": {},
   "outputs": [
    {
     "data": {
      "text/plain": [
       "' \\n@author: Teodora Trandafir \\n'"
      ]
     },
     "execution_count": 1,
     "metadata": {},
     "output_type": "execute_result"
    }
   ],
   "source": [
    "\"\"\" \n",
    "@author: Teodora Trandafir \n",
    "\"\"\""
   ]
  },
  {
   "cell_type": "code",
   "execution_count": 2,
   "id": "3f8e8133-cf0d-4970-bac3-50df2d1d3ca7",
   "metadata": {},
   "outputs": [
    {
     "data": {
      "text/plain": [
       "' Update '"
      ]
     },
     "execution_count": 2,
     "metadata": {},
     "output_type": "execute_result"
    }
   ],
   "source": [
    "\"\"\" Update \"\"\""
   ]
  },
  {
   "cell_type": "markdown",
   "id": "493dbc81-5a53-4a0c-be0e-09ea3243dabb",
   "metadata": {},
   "source": [
    "#### Libraries"
   ]
  },
  {
   "cell_type": "code",
   "execution_count": 3,
   "id": "6f6652bd-a2d2-4c15-bd69-25ed03bf9cb7",
   "metadata": {
    "tags": []
   },
   "outputs": [],
   "source": [
    "import datetime\n",
    "\n",
    "import numpy as np \n",
    "%matplotlib inline\n",
    "import math\n",
    "import random\n",
    "\n",
    "import matplotlib.pyplot as plt\n",
    "import datetime\n",
    "import json\n",
    "import pandas as pd\n",
    "import six\n",
    "import csv\n",
    "\n",
    "import os\n",
    "import glob \n",
    "import sys\n",
    "import shutil\n",
    "from skimage import io\n",
    "from scipy import misc\n",
    "\n",
    "from PIL import Image\n",
    "\n",
    "import tensorflow as tf\n",
    "from tensorflow.python.framework import tensor_util\n",
    "from tensorflow import keras\n",
    "from tensorflow.keras import backend as K\n",
    "from tensorflow.keras.models import *\n",
    "from tensorflow.keras.models import model_from_json, Sequential\n",
    "from tensorflow.keras.applications import InceptionResNetV2, ResNet50, EfficientNetV2B0, MobileNetV2\n",
    "from tensorflow.keras.layers import *\n",
    "from tensorflow.keras.layers import Lambda, Dense, Flatten, GlobalAveragePooling2D\n",
    "from tensorflow.keras.optimizers import *\n",
    "from tensorflow.keras.losses import *\n",
    "from tensorflow.keras.activations import softmax, sigmoid\n",
    "from tensorflow.keras.callbacks import ModelCheckpoint, LearningRateScheduler, History, EarlyStopping, ReduceLROnPlateau, CSVLogger\n",
    "from tensorflow.keras.preprocessing.image import DirectoryIterator, ImageDataGenerator\n",
    "\n",
    "\n",
    "import sklearn\n",
    "from sklearn.metrics import accuracy_score, balanced_accuracy_score, precision_score, recall_score, f1_score, cohen_kappa_score, roc_auc_score, multilabel_confusion_matrix, confusion_matrix\n",
    "from sklearn.model_selection import StratifiedGroupKFold, GroupKFold\n",
    "from sklearn.utils import class_weight\n",
    "from sklearn.preprocessing import LabelEncoder\n"
   ]
  },
  {
   "cell_type": "code",
   "execution_count": 4,
   "id": "02065913-dffa-4f6d-8be4-0e773ca66df7",
   "metadata": {},
   "outputs": [
    {
     "name": "stdout",
     "output_type": "stream",
     "text": [
      "2.8.0\n",
      "1.1.0\n"
     ]
    },
    {
     "name": "stderr",
     "output_type": "stream",
     "text": [
      "2024-07-31 14:17:10.997572: I tensorflow/stream_executor/cuda/cuda_gpu_executor.cc:936] successful NUMA node read from SysFS had negative value (-1), but there must be at least one NUMA node, so returning NUMA node zero\n",
      "2024-07-31 14:17:11.017103: I tensorflow/stream_executor/cuda/cuda_gpu_executor.cc:936] successful NUMA node read from SysFS had negative value (-1), but there must be at least one NUMA node, so returning NUMA node zero\n",
      "2024-07-31 14:17:11.017204: I tensorflow/stream_executor/cuda/cuda_gpu_executor.cc:936] successful NUMA node read from SysFS had negative value (-1), but there must be at least one NUMA node, so returning NUMA node zero\n"
     ]
    }
   ],
   "source": [
    "print(tf.__version__)\n",
    "tf.config.list_physical_devices('GPU')\n",
    "print(sklearn.__version__)"
   ]
  },
  {
   "cell_type": "code",
   "execution_count": 5,
   "id": "e50ad8e1-5675-4ab4-be4c-8d47b07c641c",
   "metadata": {},
   "outputs": [
    {
     "name": "stdout",
     "output_type": "stream",
     "text": [
      "Wed Jul 31 14:17:11 2024       \n",
      "+-----------------------------------------------------------------------------------------+\n",
      "| NVIDIA-SMI 550.67                 Driver Version: 550.67         CUDA Version: 12.4     |\n",
      "|-----------------------------------------+------------------------+----------------------+\n",
      "| GPU  Name                 Persistence-M | Bus-Id          Disp.A | Volatile Uncorr. ECC |\n",
      "| Fan  Temp   Perf          Pwr:Usage/Cap |           Memory-Usage | GPU-Util  Compute M. |\n",
      "|                                         |                        |               MIG M. |\n",
      "|=========================================+========================+======================|\n",
      "|   0  NVIDIA GeForce RTX 3090        Off |   00000000:01:00.0 Off |                  N/A |\n",
      "|  0%   35C    P5             59W /  420W |    5692MiB /  24576MiB |      0%      Default |\n",
      "|                                         |                        |                  N/A |\n",
      "+-----------------------------------------+------------------------+----------------------+\n",
      "                                                                                         \n",
      "+-----------------------------------------------------------------------------------------+\n",
      "| Processes:                                                                              |\n",
      "|  GPU   GI   CI        PID   Type   Process name                              GPU Memory |\n",
      "|        ID   ID                                                               Usage      |\n",
      "|=========================================================================================|\n",
      "|    0   N/A  N/A      1175      G   /usr/lib/xorg/Xorg                              4MiB |\n",
      "|    0   N/A  N/A      5083    C+G   ...libexec/gnome-remote-desktop-daemon        258MiB |\n",
      "|    0   N/A  N/A   1218572      C   ...ra/anaconda3/envs/DL_img/bin/python       5412MiB |\n",
      "+-----------------------------------------------------------------------------------------+\n"
     ]
    }
   ],
   "source": [
    "!nvidia-smi"
   ]
  },
  {
   "cell_type": "markdown",
   "id": "3b43cc43-b6dd-4b69-9248-e24a6bed46f5",
   "metadata": {},
   "source": [
    "#### Session settings"
   ]
  },
  {
   "cell_type": "code",
   "execution_count": 6,
   "id": "d29eb3c6-88ca-48f1-921f-a9c10bd8dc85",
   "metadata": {},
   "outputs": [
    {
     "name": "stderr",
     "output_type": "stream",
     "text": [
      "2024-07-31 14:17:11.190646: I tensorflow/core/platform/cpu_feature_guard.cc:151] This TensorFlow binary is optimized with oneAPI Deep Neural Network Library (oneDNN) to use the following CPU instructions in performance-critical operations:  AVX2 AVX512F FMA\n",
      "To enable them in other operations, rebuild TensorFlow with the appropriate compiler flags.\n",
      "2024-07-31 14:17:11.193394: I tensorflow/stream_executor/cuda/cuda_gpu_executor.cc:936] successful NUMA node read from SysFS had negative value (-1), but there must be at least one NUMA node, so returning NUMA node zero\n",
      "2024-07-31 14:17:11.194026: I tensorflow/stream_executor/cuda/cuda_gpu_executor.cc:936] successful NUMA node read from SysFS had negative value (-1), but there must be at least one NUMA node, so returning NUMA node zero\n",
      "2024-07-31 14:17:11.194487: I tensorflow/stream_executor/cuda/cuda_gpu_executor.cc:936] successful NUMA node read from SysFS had negative value (-1), but there must be at least one NUMA node, so returning NUMA node zero\n",
      "2024-07-31 14:17:11.498121: I tensorflow/stream_executor/cuda/cuda_gpu_executor.cc:936] successful NUMA node read from SysFS had negative value (-1), but there must be at least one NUMA node, so returning NUMA node zero\n",
      "2024-07-31 14:17:11.498276: I tensorflow/stream_executor/cuda/cuda_gpu_executor.cc:936] successful NUMA node read from SysFS had negative value (-1), but there must be at least one NUMA node, so returning NUMA node zero\n",
      "2024-07-31 14:17:11.498371: I tensorflow/stream_executor/cuda/cuda_gpu_executor.cc:936] successful NUMA node read from SysFS had negative value (-1), but there must be at least one NUMA node, so returning NUMA node zero\n",
      "2024-07-31 14:17:11.498448: I tensorflow/core/common_runtime/gpu/gpu_device.cc:1525] Created device /job:localhost/replica:0/task:0/device:GPU:0 with 16614 MB memory:  -> device: 0, name: NVIDIA GeForce RTX 3090, pci bus id: 0000:01:00.0, compute capability: 8.6\n"
     ]
    }
   ],
   "source": [
    "config = tf.compat.v1.ConfigProto()\n",
    "config.gpu_options.allow_growth=True\n",
    "session = tf.compat.v1.Session(config=config)"
   ]
  },
  {
   "cell_type": "markdown",
   "id": "d8d0e7fb-1379-4778-b7c6-178e8c7d425f",
   "metadata": {},
   "source": [
    "#### Architecture settings"
   ]
  },
  {
   "cell_type": "code",
   "execution_count": 7,
   "id": "4908a85f-6193-47d6-a1f7-97aa6dfd0140",
   "metadata": {},
   "outputs": [],
   "source": [
    "def plot_performance(figures_path, History, Exp, N_EPOCHS, foldN, runN):\n",
    "    if not os.path.exists('{}/{}'.format(figures_path, Exp)):\n",
    "        os.makedirs('{}/{}'.format(figures_path, Exp))\n",
    "    #plt.style.use(\"ggplot\")\n",
    "    plt.figure()\n",
    "    # Create two subplots and unpack the output array immediately\n",
    "    f, (ax1, ax2) = plt.subplots(2, 1, sharex=True, sharey=False)\n",
    "    \n",
    "    ax1.plot(History.history[\"loss\"], label=\"train_loss\")\n",
    "    ax1.plot(History.history[\"val_loss\"], label=\"val_loss\")\n",
    "    ax1.set_title('Loss fold{} of run{}'.format(foldN, runN))\n",
    "    ax1.set_ylabel('Loss')\n",
    "    \n",
    "    ax2.plot(History.history[\"Accuracy\"], label=\"train_acc\")\n",
    "    ax2.plot(History.history[\"val_Accuracy\"], label=\"val_acc\")\n",
    "    ax2.set_title('Accuracy fold{} of run{}'.format(foldN, runN))\n",
    "    ax2.set_ylim(0,1)\n",
    "    ax2.set_ylabel('Accuracy')\n",
    "    ax2.set_xlim(0, N_EPOCHS)\n",
    "    ax2.set_xlabel(\"Epoch\")\n",
    "    \n",
    "    plt.legend(loc=\"lower left\")\n",
    "    plt.savefig('{}/{}/Performance_fold{}{}.png'.format(figures_path, Exp, foldN, runN))\n",
    "    plt.show()"
   ]
  },
  {
   "cell_type": "markdown",
   "id": "ebd73985-d7db-4a5f-9ea8-33c4ec0d2ec9",
   "metadata": {
    "tags": []
   },
   "source": [
    "#### Work directory configurations"
   ]
  },
  {
   "cell_type": "code",
   "execution_count": 8,
   "id": "31c08d73-9602-4720-8ec8-798cda9faf38",
   "metadata": {
    "tags": []
   },
   "outputs": [
    {
     "name": "stdout",
     "output_type": "stream",
     "text": [
      "/mnt/storage/Projects/04_LCNEC/Principal\n",
      "/mnt/storage/Projects/04_LCNEC\n"
     ]
    }
   ],
   "source": [
    "print(os.getcwd())\n",
    "os.chdir('..')\n",
    "print(os.getcwd())"
   ]
  },
  {
   "cell_type": "markdown",
   "id": "99b3cf76-eca7-46c5-9fa2-b70d35211acc",
   "metadata": {},
   "source": [
    "#### Location "
   ]
  },
  {
   "cell_type": "code",
   "execution_count": 9,
   "id": "016b10f1-701b-4be2-a64b-13e8533421b7",
   "metadata": {},
   "outputs": [],
   "source": [
    "project_path = os.getcwd()\n",
    "\n",
    "root_path = project_path + os.sep + 'Principal'\n",
    "data_path = project_path + os.sep + 'LCNEC_128_Consensus'\n",
    "folds_path = project_path + os.sep + 'LCNEC_128_Consensus_4folds'\n",
    "save_path = project_path + os.sep + 'augument'"
   ]
  },
  {
   "cell_type": "code",
   "execution_count": 12,
   "id": "881a7b89-6acf-4c89-8451-73d1502b4d40",
   "metadata": {},
   "outputs": [
    {
     "data": {
      "text/plain": [
       "['LCNEC_128_ultimate.zip',\n",
       " 'Experiments',\n",
       " 'Data_Archive_IHC',\n",
       " 'LCNEC_128_Consensus_V11_2nd_4folds',\n",
       " 'Test_LCNEC_128_Consensus_Biopsies',\n",
       " '.ipynb_checkpoints',\n",
       " 'LCNEC_128_Consensus_V11',\n",
       " 'SCC_masks_20x_128.zip',\n",
       " 'Preprocessing',\n",
       " 'Previous_attempts',\n",
       " 'Preprocessing_with_masks',\n",
       " 'Principal',\n",
       " 'Experiments_V1',\n",
       " 'Test_SCC_128',\n",
       " 'Experiments_V3_V4_V5',\n",
       " 'LCNEC_128_Consensus_V11_Test_2',\n",
       " 'Test_LCNEC_128_Consensus_Biopsies_2',\n",
       " 'LCNEC_128_Consensus_All',\n",
       " 'LCNEC_128_Consensus_V11_Test',\n",
       " 'Preprocessing_with_masks_2',\n",
       " 'LCNEC_128_Consensus_V11_4folds',\n",
       " 'Data_groups_timeline',\n",
       " 'Previous_attempts_V6-V13',\n",
       " 'Data_annotated_backup',\n",
       " 'Experiments_V6-V13',\n",
       " 'Experiments_V2']"
      ]
     },
     "execution_count": 12,
     "metadata": {},
     "output_type": "execute_result"
    }
   ],
   "source": [
    "os.listdir(project_path)"
   ]
  },
  {
   "cell_type": "code",
   "execution_count": 14,
   "id": "12f812d0-a5ca-4bba-b292-5b81a2553768",
   "metadata": {},
   "outputs": [],
   "source": [
    "# Fix seed to make training deterministic.\n",
    "SEED = 3\n",
    "random.seed(SEED)\n",
    "np.random.seed(SEED)\n",
    "tf.random.set_seed(SEED)"
   ]
  },
  {
   "cell_type": "markdown",
   "id": "06322320-34c7-4c18-8404-56dc3189835b",
   "metadata": {},
   "source": [
    "#### Input configurations "
   ]
  },
  {
   "cell_type": "code",
   "execution_count": 15,
   "id": "44c83091-7fdb-465f-841c-b80544b4cd8e",
   "metadata": {},
   "outputs": [
    {
     "name": "stdout",
     "output_type": "stream",
     "text": [
      "['1', '0']\n",
      "['T12-21028', 'T04-29612', 'T06-1349', 'T10-14994', 'T09-20292', 'H23-26063', 'T12-23176', 'T08-07800', 'T09-21310', 'T06-36014', 'T12-025063', 'H21-2643', 'T21-19855', 'T11-15693', 'T10-17506', 'H22-7537', 'T06-15230', 'H21-11135', 'H20-7575', 'T12-1775', 'T11-018111', 'T10-02288', 'H20-28675', 'T12-42525', 'T09-020872', 'T09-25062', 'T09-15595', 'T11-22093', 'T10-17366', 'T08-18308', 'H22-8273', 'T05-43721', 'T12-13076', 'T06-9449', 'T03-8591', 'H21-11779', 'T11-3650', 'T11-004315', 'T21-4052', 'T04-16007', 'T11-37240', 'T05-14627', 'H21-5375', 'H23-3028', 'T09-11669', 'T13-03603', 'T04-38007', 'T11-6577', 'T04-027776', 'T11-6270', 'T10-17446', 'T10-00479', 'T09-3755', 'T09-12936', 'T09-21445', 'T12-9652', 'T06-014185', 'T12-26370', 'T03-063718', 'T11-07048', 'T12-31705', 'T11-22476', 'T09-14771', 'T12-05753', 'T05-9503', 'T12-13417', 'T07-15708', 'T10-1165', 'T09-20053', 'H22-2962', 'T05-28359', 'T12-5564', 'T04-6242', 'T09-35169', 'T12-05670', 'T11-37218', 'T10-11697', 'T12-818', 'T08-060191', 'T10-43400', 'T07-066437', 'T05-8396', 'T09-15078', 'T12-22210', 'T11-24536', 'T06-12815', 'T10-34230', 'T06-032917', 'T10-11634', 'T07-015745', 'T09-24617', 'T11-065239', 'T07-2779', 'T08-20742', 'T05-05354', 'T12-31073', 'T11-02132', 'H21-20908', 'T09-3783', 'T11-22503']\n",
      "100\n"
     ]
    }
   ],
   "source": [
    "\"\"\" Set data info \"\"\"\n",
    "\n",
    "DISEASE = 'LCNEC_RB_consensus4'\n",
    "\n",
    "CLASSES = ([name for name in os.listdir(data_path)])\n",
    "print(CLASSES)\n",
    "N_CLASSES = len(CLASSES)\n",
    "class_weights = None\n",
    "\n",
    "GROUPS = list()\n",
    "for classi in CLASSES:\n",
    "    GROUPS.append([name for name in os.listdir(data_path+os.sep+classi)])\n",
    "GROUPS = GROUPS[0]+GROUPS[1]\n",
    "N_GROUPS = len(GROUPS) \n",
    "print(GROUPS)\n",
    "print(N_GROUPS)\n",
    "\n",
    "\"\"\" Set experiments repeats \"\"\"\n",
    "N_FOLDS = 4\n",
    "N_RUNS = 1\n",
    "\n",
    "\"\"\" Set model parameters \"\"\"\n",
    "MODEL_ARCH = 'teonet_u2'\n",
    "LOSS_FUNC = 'BBCE'\n",
    "N_EPOCHS = 50\n",
    "PATIENCE = 20\n",
    "PATCH_SIZE =128\n",
    "DOWNSIZING_FACTOR = 1 # 1 for original image size\n",
    "PATCH_SIZE = int(PATCH_SIZE/DOWNSIZING_FACTOR) # both height and width\n",
    "BATCH_SIZE = 128 * DOWNSIZING_FACTOR * DOWNSIZING_FACTOR\n",
    "LR = 1e-4\n",
    "\"\"\" Set randomization parameters \"\"\"\n",
    "SHUFFLE = True\n",
    "\n",
    "\"\"\" Set required metrics evaluation \"\"\"\n",
    "METRICS = [\"Accuracy\"]\n",
    "#METRICS = [tf.keras.metrics.CategoricalAccuracy()]\n",
    "\n",
    "\"\"\" Set annalysed fold \"\"\"\n",
    "foldN = 1\n",
    "runN = 1"
   ]
  },
  {
   "cell_type": "code",
   "execution_count": 16,
   "id": "c45a61e6-03fc-41d3-917a-197d418f8798",
   "metadata": {},
   "outputs": [],
   "source": [
    "\"\"\" Set required functions \"\"\"\n",
    "\n",
    "OPTIMIZER = keras.optimizers.Adam(learning_rate=LR, beta_1=0.9, beta_2=0.999, epsilon=None, decay=LR*0.1, amsgrad=True, name='Adam')\n",
    "\n",
    "LOSS = BinaryCrossentropy()"
   ]
  },
  {
   "cell_type": "code",
   "execution_count": 17,
   "id": "27f1b40a-494a-48d4-b7da-09aefb12b56b",
   "metadata": {},
   "outputs": [],
   "source": [
    "\"\"\" Set experiment name \"\"\"\n",
    "\n",
    "Exp = DISEASE+'_'+MODEL_ARCH+'_'+LOSS_FUNC+'_'+str(N_CLASSES)+'_'+str(PATCH_SIZE)"
   ]
  },
  {
   "cell_type": "code",
   "execution_count": 18,
   "id": "b5a970b9-26dd-47a7-be03-7b6100600fc9",
   "metadata": {},
   "outputs": [
    {
     "name": "stdout",
     "output_type": "stream",
     "text": [
      "None\n"
     ]
    }
   ],
   "source": [
    "\"\"\" Pretrained weights \"\"\"\n",
    "\n",
    "pretrained_weights = None\n",
    "print(pretrained_weights)"
   ]
  },
  {
   "cell_type": "code",
   "execution_count": 19,
   "id": "ef902486-00f0-49a0-8413-b6e2d3a7a790",
   "metadata": {},
   "outputs": [],
   "source": [
    "\"\"\" Output locations\"\"\"\n",
    "\n",
    "history_path = '{}/Experiments/{}/history_data'.format(project_path, Exp)\n",
    "weights_path = '{}/Experiments/{}/weights_data'.format(project_path, Exp)\n",
    "figures_path = '{}/Experiments/{}/figures_data'.format(project_path, Exp)"
   ]
  },
  {
   "cell_type": "code",
   "execution_count": 20,
   "id": "7ce28001-23bc-4842-a321-9965e2abe3c3",
   "metadata": {},
   "outputs": [],
   "source": [
    "# \"\"\" Check initial numbers \"\"\"\n",
    "# for subdirs, dirs, files in os.walk(folds_path):\n",
    "#     print(subdirs, \"has \", len(os.listdir(subdirs)), \" elements\")"
   ]
  },
  {
   "cell_type": "markdown",
   "id": "64adef5f-9e3e-4bd1-96f8-767a855fd0b3",
   "metadata": {},
   "source": [
    "#### Preprocessing function"
   ]
  },
  {
   "cell_type": "code",
   "execution_count": 21,
   "id": "dd0853b6-20b5-4836-8d81-ecf26f8fc5d0",
   "metadata": {},
   "outputs": [],
   "source": [
    "def rotate_image(image):\n",
    "    return np.rot90(image, np.random.choice([0, 1, 2, 3]))"
   ]
  },
  {
   "cell_type": "markdown",
   "id": "d392b5ef-5b7a-4baf-bddf-77886fb3094f",
   "metadata": {
    "tags": []
   },
   "source": [
    "#### Generator setup"
   ]
  },
  {
   "cell_type": "code",
   "execution_count": 22,
   "id": "ad7393a3-0365-46b2-9c5a-03cd5aa0b601",
   "metadata": {
    "tags": []
   },
   "outputs": [],
   "source": [
    "\"\"\" Augmentation/preprocessing setup for training and validation data generator \"\"\"\n",
    "\n",
    "augmentation_arguments_train = dict(featurewise_center=False,\n",
    "                                    samplewise_center = False,\n",
    "                                    featurewise_std_normalization = False,\n",
    "                                    samplewise_std_normalization = False,\n",
    "                                    rotation_range = None,\n",
    "                                    brightness_range = None,\n",
    "                                    horizontal_flip = True,\n",
    "                                    vertical_flip = True,\n",
    "                                    rescale = 1./255.,\n",
    "                                    # fill_mode = \"constant\",\n",
    "                                    # cval = 255.0,\n",
    "                                    preprocessing_function = rotate_image) #tf.keras.applications.resnet_v2.preprocess_input)\n",
    "\n",
    "augmentation_arguments_valid = dict(featurewise_center = False,\n",
    "                                    samplewise_center = False,\n",
    "                                    featurewise_std_normalization = False,\n",
    "                                    samplewise_std_normalization = False,\n",
    "                                    rotation_range = None,\n",
    "                                    brightness_range = None,\n",
    "                                    horizontal_flip = False,\n",
    "                                    vertical_flip = False,\n",
    "                                    rescale = 1./255.,\n",
    "                                    # fill_mode = \"constant\",\n",
    "                                    # cval = 255.0,\n",
    "                                    preprocessing_function = None) #tf.keras.applications.resnet_v2.preprocess_input)"
   ]
  },
  {
   "cell_type": "markdown",
   "id": "aa60b5d1-65bf-4ca0-9d3f-ba1ca6616d99",
   "metadata": {},
   "source": [
    "#### Training"
   ]
  },
  {
   "cell_type": "code",
   "execution_count": 23,
   "id": "29c40352-b6ed-4e15-b09c-e9c8a087eef6",
   "metadata": {},
   "outputs": [
    {
     "name": "stdout",
     "output_type": "stream",
     "text": [
      "Found 20559 images belonging to 2 classes.\n",
      "Found 6935 images belonging to 2 classes.\n"
     ]
    }
   ],
   "source": [
    "\"\"\"-------------------- Data generator --------------------\"\"\" \n",
    "\n",
    "train_path = '{}/Fold{}{}/Train/'.format(folds_path, foldN, runN)\n",
    "valid_path = '{}/Fold{}{}/Validation/'.format(folds_path, foldN, runN)\n",
    "\n",
    "\n",
    "\"\"\"--------------------- Generate batches of tiles from train and validation set of this fold ---------------------\"\"\"\n",
    "train_datagen = ImageDataGenerator(**augmentation_arguments_train).flow_from_directory(directory = train_path, \n",
    "                                                                                        batch_size = BATCH_SIZE, \n",
    "                                                                                        target_size = (PATCH_SIZE,PATCH_SIZE),\n",
    "                                                                                        color_mode = \"rgb\",\n",
    "                                                                                        class_mode = \"binary\", \n",
    "                                                                                        #classes = CLASSES,\n",
    "                                                                                        seed = SEED,\n",
    "                                                                                        shuffle = True,\n",
    "                                                                                        #save_to_dir = save_path\n",
    "                                                                                      )\n",
    "\n",
    "valid_datagen = ImageDataGenerator(**augmentation_arguments_valid).flow_from_directory(directory = valid_path,\n",
    "                                                                                        batch_size = BATCH_SIZE, \n",
    "                                                                                        target_size = (PATCH_SIZE,PATCH_SIZE),\n",
    "                                                                                        color_mode= \"rgb\",\n",
    "                                                                                        class_mode = \"binary\", \n",
    "                                                                                        #classes = CLASSES,\n",
    "                                                                                        seed= SEED,\n",
    "                                                                                        shuffle = False)\n",
    "\n",
    "       "
   ]
  },
  {
   "cell_type": "code",
   "execution_count": 24,
   "id": "1f92cbf4-71af-402d-bc50-bb05e77c843a",
   "metadata": {},
   "outputs": [
    {
     "data": {
      "text/plain": [
       "array([0, 0, 0, ..., 1, 1, 1], dtype=int32)"
      ]
     },
     "execution_count": 24,
     "metadata": {},
     "output_type": "execute_result"
    }
   ],
   "source": [
    "train_datagen.classes"
   ]
  },
  {
   "cell_type": "code",
   "execution_count": 25,
   "id": "02b6add1-1d15-4edb-99dd-afb8808273f9",
   "metadata": {},
   "outputs": [
    {
     "data": {
      "text/plain": [
       "array([0, 1], dtype=int32)"
      ]
     },
     "execution_count": 25,
     "metadata": {},
     "output_type": "execute_result"
    }
   ],
   "source": [
    "np.unique(train_datagen.classes)"
   ]
  },
  {
   "cell_type": "code",
   "execution_count": 27,
   "id": "9ac276c7-1303-454a-98b1-f2046ce325d7",
   "metadata": {},
   "outputs": [
    {
     "name": "stdout",
     "output_type": "stream",
     "text": [
      "20559\n",
      "6935\n"
     ]
    }
   ],
   "source": [
    "\"\"\"--------------------- Calculate number of tiles in train and validation set ---------------------\"\"\"    \n",
    "\n",
    "n_train_samples, n_validation_samples = 0, 0\n",
    "for classi in CLASSES:\n",
    "    for sample in os.listdir('{}/{}'.format(train_path, classi)):\n",
    "         n_train_samples += len(os.listdir('{}/{}/{}'.format(train_path, classi, sample)))\n",
    "    for sample in os.listdir('{}/{}'.format(valid_path, classi)):        \n",
    "        n_validation_samples += len(os.listdir('{}/{}/{}'.format(valid_path, classi, sample)))\n",
    "    \n",
    "print(n_train_samples)\n",
    "print(n_validation_samples)"
   ]
  },
  {
   "cell_type": "code",
   "execution_count": 28,
   "id": "118c438a-685a-475d-a394-74fd609b3937",
   "metadata": {},
   "outputs": [],
   "source": [
    "\"\"\"--------------------- Set model weigths location ---------------------\"\"\"\n",
    "\n",
    "if not os.path.exists('{}/Fold{}{}'.format(weights_path, foldN, runN)):\n",
    "    os.makedirs('{}/Fold{}{}'.format(weights_path, foldN, runN))\n",
    "model_weights = '{}/Fold{}{}/Weights_{}_{}{}_'.format(weights_path, foldN, runN, Exp, foldN, runN)\n",
    "model_weights = model_weights + '{epoch:02d}_{val_loss:.2f}.hdf5' \n",
    "csv_log = model_weights + '.csv' \n",
    "# if not os.path.exists(model_weights):\n",
    "#     with open(model_weights, 'w'): pass"
   ]
  },
  {
   "cell_type": "code",
   "execution_count": 29,
   "id": "15a40c3a-6b65-4089-b050-9d76d8d95625",
   "metadata": {},
   "outputs": [],
   "source": [
    "\"\"\"--------------------- Set callbacks ---------------------\"\"\"\n",
    "\n",
    "model_checkpoint = ModelCheckpoint(model_weights, monitor='val_loss', verbose=1, save_best_only=True, save_weights_only=True, mode='auto', save_freq = \"epoch\")\n",
    "#reduce_lr = ReduceLROnPlateau(monitor='val_loss', factor=0.8, patience=3, verbose=0, min_lr=1e-7)\n",
    "earlystop = EarlyStopping(monitor = 'val_loss', min_delta = 0, patience = PATIENCE, verbose = 1, mode = 'auto')\n",
    "cvs_logger = CSVLogger(csv_log, separator=',', append=False)"
   ]
  },
  {
   "cell_type": "code",
   "execution_count": 30,
   "id": "6576d547-c976-4556-9091-9dd8a7fa1ea0",
   "metadata": {},
   "outputs": [
    {
     "name": "stdout",
     "output_type": "stream",
     "text": [
      "Model: \"sequential\"\n",
      "_________________________________________________________________\n",
      " Layer (type)                Output Shape              Param #   \n",
      "=================================================================\n",
      " conv2d (Conv2D)             (None, 124, 124, 32)      2432      \n",
      "                                                                 \n",
      " conv2d_1 (Conv2D)           (None, 120, 120, 32)      25632     \n",
      "                                                                 \n",
      " batch_normalization (BatchN  (None, 120, 120, 32)     128       \n",
      " ormalization)                                                   \n",
      "                                                                 \n",
      " max_pooling2d (MaxPooling2D  (None, 60, 60, 32)       0         \n",
      " )                                                               \n",
      "                                                                 \n",
      " conv2d_2 (Conv2D)           (None, 58, 58, 64)        18496     \n",
      "                                                                 \n",
      " conv2d_3 (Conv2D)           (None, 56, 56, 64)        36928     \n",
      "                                                                 \n",
      " batch_normalization_1 (Batc  (None, 56, 56, 64)       256       \n",
      " hNormalization)                                                 \n",
      "                                                                 \n",
      " max_pooling2d_1 (MaxPooling  (None, 28, 28, 64)       0         \n",
      " 2D)                                                             \n",
      "                                                                 \n",
      " conv2d_4 (Conv2D)           (None, 26, 26, 128)       73856     \n",
      "                                                                 \n",
      " conv2d_5 (Conv2D)           (None, 24, 24, 128)       147584    \n",
      "                                                                 \n",
      " batch_normalization_2 (Batc  (None, 24, 24, 128)      512       \n",
      " hNormalization)                                                 \n",
      "                                                                 \n",
      " max_pooling2d_2 (MaxPooling  (None, 12, 12, 128)      0         \n",
      " 2D)                                                             \n",
      "                                                                 \n",
      " flatten (Flatten)           (None, 18432)             0         \n",
      "                                                                 \n",
      " dense (Dense)               (None, 128)               2359424   \n",
      "                                                                 \n",
      " dense_1 (Dense)             (None, 1)                 129       \n",
      "                                                                 \n",
      "=================================================================\n",
      "Total params: 2,665,377\n",
      "Trainable params: 2,664,929\n",
      "Non-trainable params: 448\n",
      "_________________________________________________________________\n"
     ]
    },
    {
     "name": "stderr",
     "output_type": "stream",
     "text": [
      "2024-07-31 14:17:11.862787: I tensorflow/stream_executor/cuda/cuda_gpu_executor.cc:936] successful NUMA node read from SysFS had negative value (-1), but there must be at least one NUMA node, so returning NUMA node zero\n",
      "2024-07-31 14:17:11.862976: I tensorflow/stream_executor/cuda/cuda_gpu_executor.cc:936] successful NUMA node read from SysFS had negative value (-1), but there must be at least one NUMA node, so returning NUMA node zero\n",
      "2024-07-31 14:17:11.863056: I tensorflow/stream_executor/cuda/cuda_gpu_executor.cc:936] successful NUMA node read from SysFS had negative value (-1), but there must be at least one NUMA node, so returning NUMA node zero\n",
      "2024-07-31 14:17:11.863164: I tensorflow/stream_executor/cuda/cuda_gpu_executor.cc:936] successful NUMA node read from SysFS had negative value (-1), but there must be at least one NUMA node, so returning NUMA node zero\n",
      "2024-07-31 14:17:11.863241: I tensorflow/stream_executor/cuda/cuda_gpu_executor.cc:936] successful NUMA node read from SysFS had negative value (-1), but there must be at least one NUMA node, so returning NUMA node zero\n",
      "2024-07-31 14:17:11.863296: I tensorflow/core/common_runtime/gpu/gpu_device.cc:1525] Created device /job:localhost/replica:0/task:0/device:GPU:0 with 16614 MB memory:  -> device: 0, name: NVIDIA GeForce RTX 3090, pci bus id: 0000:01:00.0, compute capability: 8.6\n"
     ]
    }
   ],
   "source": [
    "\"\"\"-------------------- Fit model --------------------\"\"\"\n",
    "\n",
    "from model_u2 import *\n",
    "\n",
    "model = create_binary_classification_model(input_shape=(PATCH_SIZE, PATCH_SIZE, 3))\n",
    "\n",
    "model.compile(optimizer = OPTIMIZER, loss = LOSS, metrics = METRICS)\n",
    "\n",
    "# Summary of the model architecture\n",
    "model.summary()\n"
   ]
  },
  {
   "cell_type": "code",
   "execution_count": 31,
   "id": "90d137ea-0b8b-42bd-9060-48003c54d623",
   "metadata": {},
   "outputs": [
    {
     "data": {
      "text/plain": [
       "{0: 0.9108994240141781, 1: 1.1084213931421179}"
      ]
     },
     "execution_count": 31,
     "metadata": {},
     "output_type": "execute_result"
    }
   ],
   "source": [
    "\"\"\"-------------------- Calculate the weights for each class so that we can balance the data --------------------\"\"\"\n",
    "\n",
    "class_weights = sklearn.utils.class_weight.compute_class_weight(class_weight = 'balanced', classes = np.unique(train_datagen.classes), y = train_datagen.classes)\n",
    "class_weights = dict(zip(np.unique(train_datagen.classes), class_weights))\n",
    "class_weights"
   ]
  },
  {
   "cell_type": "code",
   "execution_count": 32,
   "id": "6348cdac-e72e-4a14-885f-569283a7c63b",
   "metadata": {},
   "outputs": [
    {
     "name": "stdout",
     "output_type": "stream",
     "text": [
      "Epoch 1/50\n"
     ]
    },
    {
     "name": "stderr",
     "output_type": "stream",
     "text": [
      "2024-07-31 14:17:12.974167: I tensorflow/stream_executor/cuda/cuda_dnn.cc:368] Loaded cuDNN version 8200\n",
      "2024-07-31 14:17:14.313309: I tensorflow/stream_executor/cuda/cuda_blas.cc:1786] TensorFloat-32 will be used for the matrix multiplication. This will only be logged once.\n"
     ]
    },
    {
     "name": "stdout",
     "output_type": "stream",
     "text": [
      "160/160 [==============================] - ETA: 0s - loss: 3.5115 - Accuracy: 0.6868\n",
      "Epoch 1: val_loss improved from inf to 3.55007, saving model to /mnt/storage/Projects/04_LCNEC/Experiments/LCNEC_RB_consensus4_V11_teonet_u3_BBCE_2_128/weights_data/Fold41/Weights_LCNEC_RB_consensus4_V11_teonet_u3_BBCE_2_128_41_01_3.55.hdf5\n",
      "160/160 [==============================] - 13s 65ms/step - loss: 3.5115 - Accuracy: 0.6868 - val_loss: 3.5501 - val_Accuracy: 0.5618\n",
      "Epoch 2/50\n",
      "160/160 [==============================] - ETA: 0s - loss: 3.1686 - Accuracy: 0.7349\n",
      "Epoch 2: val_loss improved from 3.55007 to 3.34093, saving model to /mnt/storage/Projects/04_LCNEC/Experiments/LCNEC_RB_consensus4_V11_teonet_u3_BBCE_2_128/weights_data/Fold41/Weights_LCNEC_RB_consensus4_V11_teonet_u3_BBCE_2_128_41_02_3.34.hdf5\n",
      "160/160 [==============================] - 10s 61ms/step - loss: 3.1686 - Accuracy: 0.7349 - val_loss: 3.3409 - val_Accuracy: 0.6657\n",
      "Epoch 3/50\n",
      "159/160 [============================>.] - ETA: 0s - loss: 2.8752 - Accuracy: 0.7714\n",
      "Epoch 3: val_loss did not improve from 3.34093\n",
      "160/160 [==============================] - 10s 61ms/step - loss: 2.8743 - Accuracy: 0.7715 - val_loss: 3.7014 - val_Accuracy: 0.5253\n",
      "Epoch 4/50\n",
      "159/160 [============================>.] - ETA: 0s - loss: 2.6176 - Accuracy: 0.7952\n",
      "Epoch 4: val_loss did not improve from 3.34093\n",
      "160/160 [==============================] - 10s 60ms/step - loss: 2.6169 - Accuracy: 0.7952 - val_loss: 4.2756 - val_Accuracy: 0.6156\n",
      "Epoch 5/50\n",
      "159/160 [============================>.] - ETA: 0s - loss: 2.3964 - Accuracy: 0.8105\n",
      "Epoch 5: val_loss did not improve from 3.34093\n",
      "160/160 [==============================] - 10s 60ms/step - loss: 2.3958 - Accuracy: 0.8107 - val_loss: 4.4826 - val_Accuracy: 0.6188\n",
      "Epoch 6/50\n",
      "160/160 [==============================] - ETA: 0s - loss: 2.1818 - Accuracy: 0.8427\n",
      "Epoch 6: val_loss improved from 3.34093 to 2.96885, saving model to /mnt/storage/Projects/04_LCNEC/Experiments/LCNEC_RB_consensus4_V11_teonet_u3_BBCE_2_128/weights_data/Fold41/Weights_LCNEC_RB_consensus4_V11_teonet_u3_BBCE_2_128_41_06_2.97.hdf5\n",
      "160/160 [==============================] - 10s 60ms/step - loss: 2.1818 - Accuracy: 0.8427 - val_loss: 2.9689 - val_Accuracy: 0.5692\n",
      "Epoch 7/50\n",
      "160/160 [==============================] - ETA: 0s - loss: 2.0149 - Accuracy: 0.8546\n",
      "Epoch 7: val_loss improved from 2.96885 to 2.83914, saving model to /mnt/storage/Projects/04_LCNEC/Experiments/LCNEC_RB_consensus4_V11_teonet_u3_BBCE_2_128/weights_data/Fold41/Weights_LCNEC_RB_consensus4_V11_teonet_u3_BBCE_2_128_41_07_2.84.hdf5\n",
      "160/160 [==============================] - 10s 60ms/step - loss: 2.0149 - Accuracy: 0.8546 - val_loss: 2.8391 - val_Accuracy: 0.6372\n",
      "Epoch 8/50\n",
      "159/160 [============================>.] - ETA: 0s - loss: 1.8686 - Accuracy: 0.8657\n",
      "Epoch 8: val_loss did not improve from 2.83914\n",
      "160/160 [==============================] - 10s 62ms/step - loss: 1.8683 - Accuracy: 0.8656 - val_loss: 3.1485 - val_Accuracy: 0.5576\n",
      "Epoch 9/50\n",
      "159/160 [============================>.] - ETA: 0s - loss: 1.7465 - Accuracy: 0.8723\n",
      "Epoch 9: val_loss improved from 2.83914 to 2.73923, saving model to /mnt/storage/Projects/04_LCNEC/Experiments/LCNEC_RB_consensus4_V11_teonet_u3_BBCE_2_128/weights_data/Fold41/Weights_LCNEC_RB_consensus4_V11_teonet_u3_BBCE_2_128_41_09_2.74.hdf5\n",
      "160/160 [==============================] - 10s 59ms/step - loss: 1.7457 - Accuracy: 0.8725 - val_loss: 2.7392 - val_Accuracy: 0.5570\n",
      "Epoch 10/50\n",
      "160/160 [==============================] - ETA: 0s - loss: 1.6291 - Accuracy: 0.8856\n",
      "Epoch 10: val_loss did not improve from 2.73923\n",
      "160/160 [==============================] - 10s 59ms/step - loss: 1.6291 - Accuracy: 0.8856 - val_loss: 2.7527 - val_Accuracy: 0.5554\n",
      "Epoch 11/50\n",
      "160/160 [==============================] - ETA: 0s - loss: 1.5398 - Accuracy: 0.8906\n",
      "Epoch 11: val_loss improved from 2.73923 to 2.31131, saving model to /mnt/storage/Projects/04_LCNEC/Experiments/LCNEC_RB_consensus4_V11_teonet_u3_BBCE_2_128/weights_data/Fold41/Weights_LCNEC_RB_consensus4_V11_teonet_u3_BBCE_2_128_41_11_2.31.hdf5\n",
      "160/160 [==============================] - 10s 60ms/step - loss: 1.5398 - Accuracy: 0.8906 - val_loss: 2.3113 - val_Accuracy: 0.6016\n",
      "Epoch 12/50\n",
      "160/160 [==============================] - ETA: 0s - loss: 1.4463 - Accuracy: 0.9011\n",
      "Epoch 12: val_loss did not improve from 2.31131\n",
      "160/160 [==============================] - 10s 59ms/step - loss: 1.4463 - Accuracy: 0.9011 - val_loss: 2.6801 - val_Accuracy: 0.6182\n",
      "Epoch 13/50\n",
      "159/160 [============================>.] - ETA: 0s - loss: 1.3818 - Accuracy: 0.9027\n",
      "Epoch 13: val_loss did not improve from 2.31131\n",
      "160/160 [==============================] - 10s 59ms/step - loss: 1.3812 - Accuracy: 0.9029 - val_loss: 2.9414 - val_Accuracy: 0.6387\n",
      "Epoch 14/50\n",
      "159/160 [============================>.] - ETA: 0s - loss: 1.3119 - Accuracy: 0.9112\n",
      "Epoch 14: val_loss did not improve from 2.31131\n",
      "160/160 [==============================] - 9s 58ms/step - loss: 1.3117 - Accuracy: 0.9113 - val_loss: 2.3752 - val_Accuracy: 0.5885\n",
      "Epoch 15/50\n",
      "159/160 [============================>.] - ETA: 0s - loss: 1.2603 - Accuracy: 0.9126\n",
      "Epoch 15: val_loss did not improve from 2.31131\n",
      "160/160 [==============================] - 10s 59ms/step - loss: 1.2603 - Accuracy: 0.9127 - val_loss: 2.3619 - val_Accuracy: 0.5593\n",
      "Epoch 16/50\n",
      "159/160 [============================>.] - ETA: 0s - loss: 1.2146 - Accuracy: 0.9132\n",
      "Epoch 16: val_loss improved from 2.31131 to 2.18148, saving model to /mnt/storage/Projects/04_LCNEC/Experiments/LCNEC_RB_consensus4_V11_teonet_u3_BBCE_2_128/weights_data/Fold41/Weights_LCNEC_RB_consensus4_V11_teonet_u3_BBCE_2_128_41_16_2.18.hdf5\n",
      "160/160 [==============================] - 9s 59ms/step - loss: 1.2143 - Accuracy: 0.9133 - val_loss: 2.1815 - val_Accuracy: 0.5897\n",
      "Epoch 17/50\n",
      "159/160 [============================>.] - ETA: 0s - loss: 1.1578 - Accuracy: 0.9207\n",
      "Epoch 17: val_loss improved from 2.18148 to 2.05352, saving model to /mnt/storage/Projects/04_LCNEC/Experiments/LCNEC_RB_consensus4_V11_teonet_u3_BBCE_2_128/weights_data/Fold41/Weights_LCNEC_RB_consensus4_V11_teonet_u3_BBCE_2_128_41_17_2.05.hdf5\n",
      "160/160 [==============================] - 10s 60ms/step - loss: 1.1574 - Accuracy: 0.9209 - val_loss: 2.0535 - val_Accuracy: 0.6450\n",
      "Epoch 18/50\n",
      "159/160 [============================>.] - ETA: 0s - loss: 1.1190 - Accuracy: 0.9236\n",
      "Epoch 18: val_loss improved from 2.05352 to 1.95467, saving model to /mnt/storage/Projects/04_LCNEC/Experiments/LCNEC_RB_consensus4_V11_teonet_u3_BBCE_2_128/weights_data/Fold41/Weights_LCNEC_RB_consensus4_V11_teonet_u3_BBCE_2_128_41_18_1.95.hdf5\n",
      "160/160 [==============================] - 10s 60ms/step - loss: 1.1188 - Accuracy: 0.9236 - val_loss: 1.9547 - val_Accuracy: 0.6283\n",
      "Epoch 19/50\n",
      "160/160 [==============================] - ETA: 0s - loss: 1.0831 - Accuracy: 0.9239\n",
      "Epoch 19: val_loss did not improve from 1.95467\n",
      "160/160 [==============================] - 10s 59ms/step - loss: 1.0831 - Accuracy: 0.9239 - val_loss: 2.2659 - val_Accuracy: 0.5888\n",
      "Epoch 20/50\n",
      "160/160 [==============================] - ETA: 0s - loss: 1.0425 - Accuracy: 0.9318\n",
      "Epoch 20: val_loss did not improve from 1.95467\n",
      "160/160 [==============================] - 10s 62ms/step - loss: 1.0425 - Accuracy: 0.9318 - val_loss: 2.1175 - val_Accuracy: 0.6123\n",
      "Epoch 21/50\n",
      "160/160 [==============================] - ETA: 0s - loss: 1.0167 - Accuracy: 0.9314\n",
      "Epoch 21: val_loss did not improve from 1.95467\n",
      "160/160 [==============================] - 10s 59ms/step - loss: 1.0167 - Accuracy: 0.9314 - val_loss: 2.6093 - val_Accuracy: 0.5365\n",
      "Epoch 22/50\n",
      "160/160 [==============================] - ETA: 0s - loss: 0.9792 - Accuracy: 0.9366\n",
      "Epoch 22: val_loss improved from 1.95467 to 1.79679, saving model to /mnt/storage/Projects/04_LCNEC/Experiments/LCNEC_RB_consensus4_V11_teonet_u3_BBCE_2_128/weights_data/Fold41/Weights_LCNEC_RB_consensus4_V11_teonet_u3_BBCE_2_128_41_22_1.80.hdf5\n",
      "160/160 [==============================] - 10s 60ms/step - loss: 0.9792 - Accuracy: 0.9366 - val_loss: 1.7968 - val_Accuracy: 0.6004\n",
      "Epoch 23/50\n",
      "160/160 [==============================] - ETA: 0s - loss: 0.9543 - Accuracy: 0.9370\n",
      "Epoch 23: val_loss did not improve from 1.79679\n",
      "160/160 [==============================] - 10s 61ms/step - loss: 0.9543 - Accuracy: 0.9370 - val_loss: 2.6160 - val_Accuracy: 0.6231\n",
      "Epoch 24/50\n",
      "159/160 [============================>.] - ETA: 0s - loss: 0.9313 - Accuracy: 0.9390\n",
      "Epoch 24: val_loss did not improve from 1.79679\n",
      "160/160 [==============================] - 10s 59ms/step - loss: 0.9309 - Accuracy: 0.9392 - val_loss: 2.9121 - val_Accuracy: 0.5781\n",
      "Epoch 25/50\n",
      "160/160 [==============================] - ETA: 0s - loss: 0.9089 - Accuracy: 0.9402\n",
      "Epoch 25: val_loss did not improve from 1.79679\n",
      "160/160 [==============================] - 10s 61ms/step - loss: 0.9089 - Accuracy: 0.9402 - val_loss: 2.3508 - val_Accuracy: 0.6194\n",
      "Epoch 26/50\n",
      "159/160 [============================>.] - ETA: 0s - loss: 0.8892 - Accuracy: 0.9401\n",
      "Epoch 26: val_loss did not improve from 1.79679\n",
      "160/160 [==============================] - 10s 60ms/step - loss: 0.8890 - Accuracy: 0.9402 - val_loss: 1.9919 - val_Accuracy: 0.5663\n",
      "Epoch 27/50\n",
      "160/160 [==============================] - ETA: 0s - loss: 0.8655 - Accuracy: 0.9449\n",
      "Epoch 27: val_loss did not improve from 1.79679\n",
      "160/160 [==============================] - 10s 59ms/step - loss: 0.8655 - Accuracy: 0.9449 - val_loss: 2.0254 - val_Accuracy: 0.5437\n",
      "Epoch 28/50\n",
      "160/160 [==============================] - ETA: 0s - loss: 0.8516 - Accuracy: 0.9444\n",
      "Epoch 28: val_loss did not improve from 1.79679\n",
      "160/160 [==============================] - 10s 60ms/step - loss: 0.8516 - Accuracy: 0.9444 - val_loss: 2.4855 - val_Accuracy: 0.5480\n",
      "Epoch 29/50\n",
      "160/160 [==============================] - ETA: 0s - loss: 0.8281 - Accuracy: 0.9475\n",
      "Epoch 29: val_loss did not improve from 1.79679\n",
      "160/160 [==============================] - 10s 59ms/step - loss: 0.8281 - Accuracy: 0.9475 - val_loss: 1.8446 - val_Accuracy: 0.5891\n",
      "Epoch 30/50\n",
      "160/160 [==============================] - ETA: 0s - loss: 0.8070 - Accuracy: 0.9499\n",
      "Epoch 30: val_loss did not improve from 1.79679\n",
      "160/160 [==============================] - 10s 62ms/step - loss: 0.8070 - Accuracy: 0.9499 - val_loss: 2.0110 - val_Accuracy: 0.5858\n",
      "Epoch 31/50\n",
      "160/160 [==============================] - ETA: 0s - loss: 0.7885 - Accuracy: 0.9499\n",
      "Epoch 31: val_loss did not improve from 1.79679\n",
      "160/160 [==============================] - 10s 59ms/step - loss: 0.7885 - Accuracy: 0.9499 - val_loss: 2.4627 - val_Accuracy: 0.5838\n",
      "Epoch 32/50\n",
      "159/160 [============================>.] - ETA: 0s - loss: 0.7789 - Accuracy: 0.9511\n",
      "Epoch 32: val_loss did not improve from 1.79679\n",
      "160/160 [==============================] - 10s 59ms/step - loss: 0.7786 - Accuracy: 0.9512 - val_loss: 2.3987 - val_Accuracy: 0.5437\n",
      "Epoch 33/50\n",
      "159/160 [============================>.] - ETA: 0s - loss: 0.7624 - Accuracy: 0.9525\n",
      "Epoch 33: val_loss did not improve from 1.79679\n",
      "160/160 [==============================] - 9s 59ms/step - loss: 0.7621 - Accuracy: 0.9527 - val_loss: 2.2170 - val_Accuracy: 0.5367\n",
      "Epoch 34/50\n",
      "159/160 [============================>.] - ETA: 0s - loss: 0.7561 - Accuracy: 0.9516\n",
      "Epoch 34: val_loss did not improve from 1.79679\n",
      "160/160 [==============================] - 10s 60ms/step - loss: 0.7561 - Accuracy: 0.9517 - val_loss: 3.1779 - val_Accuracy: 0.6050\n",
      "Epoch 35/50\n",
      "160/160 [==============================] - ETA: 0s - loss: 0.7351 - Accuracy: 0.9542\n",
      "Epoch 35: val_loss did not improve from 1.79679\n",
      "160/160 [==============================] - 10s 60ms/step - loss: 0.7351 - Accuracy: 0.9542 - val_loss: 2.3459 - val_Accuracy: 0.5624\n",
      "Epoch 36/50\n",
      "160/160 [==============================] - ETA: 0s - loss: 0.7274 - Accuracy: 0.9533\n",
      "Epoch 36: val_loss did not improve from 1.79679\n",
      "160/160 [==============================] - 10s 60ms/step - loss: 0.7274 - Accuracy: 0.9533 - val_loss: 2.1036 - val_Accuracy: 0.5408\n",
      "Epoch 37/50\n",
      "159/160 [============================>.] - ETA: 0s - loss: 0.7145 - Accuracy: 0.9558\n",
      "Epoch 37: val_loss did not improve from 1.79679\n",
      "160/160 [==============================] - 10s 59ms/step - loss: 0.7144 - Accuracy: 0.9557 - val_loss: 2.6926 - val_Accuracy: 0.5894\n",
      "Epoch 38/50\n",
      "160/160 [==============================] - ETA: 0s - loss: 0.7038 - Accuracy: 0.9566\n",
      "Epoch 38: val_loss did not improve from 1.79679\n",
      "160/160 [==============================] - 10s 61ms/step - loss: 0.7038 - Accuracy: 0.9566 - val_loss: 2.1098 - val_Accuracy: 0.6007\n",
      "Epoch 39/50\n",
      "159/160 [============================>.] - ETA: 0s - loss: 0.6948 - Accuracy: 0.9571\n",
      "Epoch 39: val_loss did not improve from 1.79679\n",
      "160/160 [==============================] - 10s 61ms/step - loss: 0.6950 - Accuracy: 0.9571 - val_loss: 1.9086 - val_Accuracy: 0.5829\n",
      "Epoch 40/50\n",
      "159/160 [============================>.] - ETA: 0s - loss: 0.6880 - Accuracy: 0.9570\n",
      "Epoch 40: val_loss did not improve from 1.79679\n",
      "160/160 [==============================] - 9s 58ms/step - loss: 0.6881 - Accuracy: 0.9570 - val_loss: 2.0357 - val_Accuracy: 0.6000\n",
      "Epoch 41/50\n",
      "159/160 [============================>.] - ETA: 0s - loss: 0.6788 - Accuracy: 0.9573\n",
      "Epoch 41: val_loss did not improve from 1.79679\n",
      "160/160 [==============================] - 9s 59ms/step - loss: 0.6789 - Accuracy: 0.9572 - val_loss: 1.9228 - val_Accuracy: 0.5593\n",
      "Epoch 42/50\n",
      "160/160 [==============================] - ETA: 0s - loss: 0.6664 - Accuracy: 0.9602\n",
      "Epoch 42: val_loss did not improve from 1.79679\n",
      "160/160 [==============================] - 9s 59ms/step - loss: 0.6664 - Accuracy: 0.9602 - val_loss: 2.7803 - val_Accuracy: 0.5514\n",
      "Epoch 42: early stopping\n"
     ]
    }
   ],
   "source": [
    "\"\"\"-------------------- Train model --------------------\"\"\"\n",
    "\n",
    "with tf.device('/gpu:0'):\n",
    "    history = model.fit(train_datagen,          \n",
    "                    steps_per_epoch = math.floor(n_train_samples/BATCH_SIZE),\n",
    "                    epochs = N_EPOCHS,\n",
    "                    class_weight= class_weights,\n",
    "                    validation_data = valid_datagen,\n",
    "                    shuffle = True,\n",
    "                    callbacks = [model_checkpoint, earlystop, cvs_logger],#reduce_lr\n",
    "                    validation_steps = math.floor(n_validation_samples/BATCH_SIZE))"
   ]
  },
  {
   "cell_type": "code",
   "execution_count": 33,
   "id": "ef4b6cce-aca9-476e-8045-3b223675bc63",
   "metadata": {},
   "outputs": [
    {
     "name": "stdout",
     "output_type": "stream",
     "text": [
      "Weights saved\n"
     ]
    }
   ],
   "source": [
    "\"\"\"-------------------- Save the weights in the current directory --------------------\"\"\"  \n",
    "\n",
    "#for i, w in enumerate(model.weights): print(i, w.name) \n",
    "model.save_weights(model_weights)\n",
    "print(\"Weights saved\")"
   ]
  },
  {
   "cell_type": "code",
   "execution_count": 34,
   "id": "8b94492d-6239-434b-94c8-3b3770ae4a6a",
   "metadata": {},
   "outputs": [
    {
     "data": {
      "text/plain": [
       "<Figure size 432x288 with 0 Axes>"
      ]
     },
     "metadata": {},
     "output_type": "display_data"
    },
    {
     "data": {
      "image/png": "[encoded data removed]",
      "text/plain": [
       "<Figure size 432x288 with 2 Axes>"
      ]
     },
     "metadata": {
      "needs_background": "light"
     },
     "output_type": "display_data"
    }
   ],
   "source": [
    "\"\"\"-------------------- Plot the model history --------------------\"\"\"\n",
    "\n",
    "plot_performance(figures_path, history, Exp, N_EPOCHS, foldN, runN)\n",
    "K.clear_session()\n",
    "%reset -f"
   ]
  },
  {
   "cell_type": "code",
   "execution_count": 35,
   "id": "de1f9406-b557-4830-8065-8e03caf94be8",
   "metadata": {},
   "outputs": [],
   "source": [
    "\"\"\"Clear session cashe\"\"\"\n",
    "\n",
    "from keras import backend as K \n",
    "K.clear_session()\n",
    "%reset -f"
   ]
  },
  {
   "cell_type": "code",
   "execution_count": 36,
   "id": "c56bcb60-7451-45bb-bbbb-3390e3c810ea",
   "metadata": {},
   "outputs": [],
   "source": [
    "#!reboot"
   ]
  },
  {
   "cell_type": "markdown",
   "id": "362477de-f0da-4e96-8e4e-60e3deba591a",
   "metadata": {},
   "source": [
    "#### "
   ]
  }
 ],
 "metadata": {
  "kernelspec": {
   "display_name": "DL_img",
   "language": "python",
   "name": "dl_img"
  },
  "language_info": {
   "codemirror_mode": {
    "name": "ipython",
    "version": 3
   },
   "file_extension": ".py",
   "mimetype": "text/x-python",
   "name": "python",
   "nbconvert_exporter": "python",
   "pygments_lexer": "ipython3",
   "version": "3.10.4"
  }
 },
 "nbformat": 4,
 "nbformat_minor": 5
}
